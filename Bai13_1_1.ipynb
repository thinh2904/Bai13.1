{
  "nbformat": 4,
  "nbformat_minor": 0,
  "metadata": {
    "colab": {
      "name": "Bai13.1.1.ipynb",
      "provenance": []
    },
    "kernelspec": {
      "name": "python3",
      "display_name": "Python 3"
    }
  },
  "cells": [
    {
      "cell_type": "markdown",
      "metadata": {
        "id": "H9G6jLjsRQuN"
      },
      "source": [
        "Bài 13.1:\n",
        "1.Thư viện thao tác với tập tin và thư mục: os\n",
        "  Các hàm cơ bản:\n",
        "*   os.getcwd(): Trả về thư mục đang hiện tại của một tiến trình\n",
        "*   os.listdir(): Liệt kê tất cả các tệp, thư mục của đường dẫn được truyền vào\n",
        "*   os.walk(): Duyệt tệp trong cây thư mục bằng cách di chuyển cây từ trên xuống hoặc từ dưới lên. Đối với mỗi thư mục trong cây bắt nguồn từ đầu thư mục (bao gồm cả chính nó), nó mang lại một bộ 3 (dirpath, dirnames, namefile).\n",
        "*   os.chdir(): Thay đổi thư mục làm việc hiện tại\n",
        "*   os.mkdir(): Tạo thư mục/tệp ở đường dẫn được truyền\n",
        "*   os.rmdir(): Xóa thư mục hiện tại (chỉ xóa được thư mục trống)\n",
        "*   os.remove(): Xóa file\n",
        "\n",
        "\n",
        "\n",
        "\n",
        "\n",
        "\n",
        "\n",
        "\n",
        "\n",
        "\n",
        "\n",
        "\n"
      ]
    }
  ]
}